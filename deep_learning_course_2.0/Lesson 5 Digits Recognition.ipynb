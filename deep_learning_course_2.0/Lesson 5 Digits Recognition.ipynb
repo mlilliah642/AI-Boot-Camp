{
 "cells": [
  {
   "cell_type": "code",
   "execution_count": 117,
   "metadata": {},
   "outputs": [
    {
     "name": "stdout",
     "output_type": "stream",
     "text": [
      "Populating the interactive namespace from numpy and matplotlib\n"
     ]
    },
    {
     "data": {
      "text/plain": [
       "<torch._C.Generator at 0x7fe2d07eb930>"
      ]
     },
     "execution_count": 117,
     "metadata": {},
     "output_type": "execute_result"
    }
   ],
   "source": [
    "%pylab inline\n",
    "import torch\n",
    "import numpy\n",
    "import sklearn.datasets\n",
    "import torchvision.datasets\n",
    "\n",
    "random.seed(0)\n",
    "torch.manual_seed(0)"
   ]
  },
  {
   "cell_type": "code",
   "execution_count": 118,
   "metadata": {},
   "outputs": [],
   "source": [
    "# Fetching dataset\n",
    "MNIST_train = torchvision.datasets.MNIST('./', download=True, train=True)\n",
    "MNIST_test = torchvision.datasets.MNIST('./', download=True, train=False)\n",
    "# mnist = sklearn.datasets.fetch_mldata('MNIST original')"
   ]
  },
  {
   "cell_type": "code",
   "execution_count": 119,
   "metadata": {},
   "outputs": [],
   "source": [
    "train_features = MNIST_train.train_data\n",
    "train_labels = MNIST_train.train_labels\n",
    "test_features = MNIST_test.test_data\n",
    "test_labels = MNIST_test.test_labels"
   ]
  },
  {
   "cell_type": "code",
   "execution_count": 120,
   "metadata": {},
   "outputs": [
    {
     "data": {
      "text/plain": [
       "torch.Size([60000, 28, 28])"
      ]
     },
     "execution_count": 120,
     "metadata": {},
     "output_type": "execute_result"
    }
   ],
   "source": [
    "train_features.shape"
   ]
  },
  {
   "cell_type": "code",
   "execution_count": 34,
   "metadata": {},
   "outputs": [
    {
     "name": "stdout",
     "output_type": "stream",
     "text": [
      "tensor(5)\n"
     ]
    },
    {
     "data": {
      "image/png": "[encoded data removed]",
      "text/plain": [
       "<Figure size 432x288 with 1 Axes>"
      ]
     },
     "metadata": {},
     "output_type": "display_data"
    }
   ],
   "source": [
    "imshow(train_features[0, :, :].numpy())\n",
    "print(train_labels[0])"
   ]
  },
  {
   "cell_type": "code",
   "execution_count": 35,
   "metadata": {},
   "outputs": [
    {
     "name": "stdout",
     "output_type": "stream",
     "text": [
      "tensor(0)\n"
     ]
    },
    {
     "data": {
      "image/png": "[encoded data removed]",
      "text/plain": [
       "<Figure size 432x288 with 1 Axes>"
      ]
     },
     "metadata": {},
     "output_type": "display_data"
    }
   ],
   "source": [
    "imshow(train_features[1, :, :].numpy())\n",
    "print(train_labels[1])"
   ]
  },
  {
   "cell_type": "code",
   "execution_count": 16,
   "metadata": {},
   "outputs": [],
   "source": [
    "train_features = train_features.numpy()\n",
    "test_features = test_features.numpy()\n",
    "train_labels = train_labels.numpy()\n",
    "test_labels = test_labels.numpy()\n",
    "\n",
    "train_features = train_features.reshape([-1, 28 * 28]).astype(float)\n",
    "test_features = test_features.reshape([-1, 28 * 28]).astype(float)"
   ]
  },
  {
   "cell_type": "code",
   "execution_count": 17,
   "metadata": {},
   "outputs": [],
   "source": [
    "# Всего 10 классов\n",
    "class MnistNet(torch.nn.Module):\n",
    "    def __init__(self, n_hidden_neurons):\n",
    "        super(MnistNet, self).__init__()\n",
    "        self.fc1 = torch.nn.Linear(28 * 28, n_hidden_neurons)\n",
    "        self.ac1 = torch.nn.Sigmoid()\n",
    "        self.fc2 = torch.nn.Linear(n_hidden_neurons, 10) \n",
    "    \n",
    "    def forward(self, x):\n",
    "        x = self.fc1(x)\n",
    "        x = self.ac1(x)\n",
    "        x = self.fc2(x)\n",
    "        return x"
   ]
  },
  {
   "cell_type": "code",
   "execution_count": 24,
   "metadata": {},
   "outputs": [],
   "source": [
    "mnist_net = MnistNet(100)\n",
    "criterion = torch.nn.CrossEntropyLoss()\n",
    "optimizer = torch.optim.Adam(mnist_net.parameters(), lr=5.0e-4)"
   ]
  },
  {
   "cell_type": "code",
   "execution_count": 25,
   "metadata": {},
   "outputs": [
    {
     "name": "stdout",
     "output_type": "stream",
     "text": [
      "0.9124\n",
      "0.9226\n",
      "0.9322\n",
      "0.9337\n",
      "0.9335\n",
      "0.9389\n",
      "0.9409\n",
      "0.9413\n",
      "0.9445\n",
      "0.9472\n",
      "0.9472\n",
      "0.9477\n",
      "0.9484\n",
      "0.9464\n",
      "0.9502\n",
      "0.9503\n",
      "0.9488\n",
      "0.9517\n",
      "0.9526\n",
      "0.952\n"
     ]
    }
   ],
   "source": [
    "batch_size = 100\n",
    "for epoch in range(20):\n",
    "    order = random.permutation(train_features.shape[0])\n",
    "    for start_index in range(0, train_features.shape[0], batch_size):\n",
    "        optimizer.zero_grad()\n",
    "        \n",
    "        batch_indice = order[start_index:start_index+batch_size]\n",
    "        batch_features = torch.FloatTensor(train_features[batch_indice, :])\n",
    "        batch_labels = torch.LongTensor(train_labels[batch_indice])\n",
    "        \n",
    "        features_var = torch.autograd.Variable(batch_features)\n",
    "        labels_var = torch.autograd.Variable(batch_labels)\n",
    "        \n",
    "        preds_var = mnist_net.forward(features_var)\n",
    "        loss = criterion(preds_var, labels_var)\n",
    "        \n",
    "        loss.backward()\n",
    "        \n",
    "        optimizer.step()\n",
    "        \n",
    "    order = random.permutation(test_features.shape[0])\n",
    "    \n",
    "    all_preds = []\n",
    "    all_trues = []\n",
    "    for start_index in range(0, test_features.shape[0], batch_size):\n",
    "        batch_indice = order[start_index:start_index+batch_size]\n",
    "        batch_features = torch.FloatTensor(test_features[batch_indice, :])\n",
    "        trues = test_labels[batch_indice]\n",
    "        \n",
    "        features_var = torch.autograd.Variable(batch_features)\n",
    "        \n",
    "        preds = mnist_net.forward(features_var).data.numpy().argmax(axis=1)\n",
    "        \n",
    "#         print preds.shape\n",
    "#         print trues.shape\n",
    "        \n",
    "        all_preds.append(preds)\n",
    "        all_trues.append(trues)\n",
    "        \n",
    "    all_preds = numpy.concatenate(all_preds)\n",
    "    all_trues = numpy.concatenate(all_trues)\n",
    "    \n",
    "    print((all_preds == all_trues).sum() / float(all_trues.size))"
   ]
  },
  {
   "cell_type": "markdown",
   "metadata": {},
   "source": [
    "# Задание 1\n",
    "Подобрать параметры Adam, при котором достигается наибольшая точность модели."
   ]
  },
  {
   "cell_type": "code",
   "execution_count": null,
   "metadata": {},
   "outputs": [],
   "source": []
  },
  {
   "cell_type": "markdown",
   "metadata": {},
   "source": [
    "# Задание 2\n",
    "Сделать обучение такой же модели для CIFAR-10. Модель изменить в зависимости от предпочтений, добавить оптимизатор по вкусу."
   ]
  },
  {
   "cell_type": "code",
   "execution_count": 123,
   "metadata": {},
   "outputs": [
    {
     "name": "stdout",
     "output_type": "stream",
     "text": [
      "Populating the interactive namespace from numpy and matplotlib\n"
     ]
    }
   ],
   "source": [
    "%pylab inline\n",
    "import torch\n",
    "import numpy\n",
    "import sklearn.datasets\n",
    "import torchvision.datasets"
   ]
  },
  {
   "cell_type": "code",
   "execution_count": 124,
   "metadata": {},
   "outputs": [
    {
     "name": "stdout",
     "output_type": "stream",
     "text": [
      "Files already downloaded and verified\n",
      "Files already downloaded and verified\n"
     ]
    }
   ],
   "source": [
    "CIFAR_train = torchvision.datasets.CIFAR10('./', download=True, train=True)\n",
    "CIFAR_test = torchvision.datasets.CIFAR10('./', download=True, train=False)"
   ]
  },
  {
   "cell_type": "code",
   "execution_count": 125,
   "metadata": {},
   "outputs": [],
   "source": [
    "train_features = CIFAR_train.train_data\n",
    "train_labels = CIFAR_train.train_labels\n",
    "test_features = CIFAR_test.test_data\n",
    "test_labels = CIFAR_test.test_labels"
   ]
  },
  {
   "cell_type": "code",
   "execution_count": 126,
   "metadata": {},
   "outputs": [
    {
     "data": {
      "text/plain": [
       "(50000, 32, 32, 3)"
      ]
     },
     "execution_count": 126,
     "metadata": {},
     "output_type": "execute_result"
    }
   ],
   "source": [
    "train_features.shape"
   ]
  },
  {
   "cell_type": "code",
   "execution_count": 127,
   "metadata": {},
   "outputs": [
    {
     "name": "stdout",
     "output_type": "stream",
     "text": [
      "6\n"
     ]
    },
    {
     "data": {
      "image/png": "[encoded data removed]",
      "text/plain": [
       "<Figure size 432x288 with 1 Axes>"
      ]
     },
     "metadata": {},
     "output_type": "display_data"
    }
   ],
   "source": [
    "imshow(train_features[0, :, :, :])\n",
    "print(train_labels[0])"
   ]
  },
  {
   "cell_type": "code",
   "execution_count": 128,
   "metadata": {},
   "outputs": [
    {
     "name": "stdout",
     "output_type": "stream",
     "text": [
      "9\n"
     ]
    },
    {
     "data": {
      "image/png": "[encoded data removed]",
      "text/plain": [
       "<Figure size 432x288 with 1 Axes>"
      ]
     },
     "metadata": {},
     "output_type": "display_data"
    }
   ],
   "source": [
    "imshow(train_features[2, :, :, :])\n",
    "print(train_labels[2])"
   ]
  },
  {
   "cell_type": "code",
   "execution_count": 146,
   "metadata": {},
   "outputs": [],
   "source": [
    "#train_features = train_features.numpy()\n",
    "#test_features = test_features.numpy()\n",
    "train_labels = numpy.array(train_labels)#.numpy()\n",
    "test_labels = numpy.array(test_labels)#.numpy()\n",
    "\n",
    "train_features = train_features.reshape([-1, 3 * 32 * 32]).astype(float)\n",
    "test_features = test_features.reshape([-1, 3 * 32 * 32]).astype(float)"
   ]
  },
  {
   "cell_type": "code",
   "execution_count": 148,
   "metadata": {},
   "outputs": [],
   "source": [
    "# Всего 10 классов\n",
    "class MnistNet(torch.nn.Module):\n",
    "    def __init__(self, n_hidden_neurons):\n",
    "        super(MnistNet, self).__init__()\n",
    "        self.fc1 = torch.nn.Linear(3 * 32 * 32, n_hidden_neurons)\n",
    "        self.ac1 = torch.nn.Sigmoid()\n",
    "        self.fc2 = torch.nn.Linear(n_hidden_neurons, 10) \n",
    "    \n",
    "    def forward(self, x):\n",
    "        x = self.fc1(x)\n",
    "        x = self.ac1(x)\n",
    "        x = self.fc2(x)\n",
    "        return x"
   ]
  },
  {
   "cell_type": "code",
   "execution_count": 151,
   "metadata": {},
   "outputs": [],
   "source": [
    "mnist_net = MnistNet(1000)\n",
    "criterion = torch.nn.CrossEntropyLoss()\n",
    "optimizer = torch.optim.Adam(mnist_net.parameters(), lr=5.0e-4)"
   ]
  },
  {
   "cell_type": "code",
   "execution_count": 152,
   "metadata": {},
   "outputs": [
    {
     "name": "stdout",
     "output_type": "stream",
     "text": [
      "0.1\n",
      "0.1144\n",
      "0.154\n",
      "0.1294\n",
      "0.1435\n",
      "0.1038\n",
      "0.139\n",
      "0.1109\n",
      "0.1486\n",
      "0.1274\n",
      "0.1378\n",
      "0.137\n",
      "0.1582\n",
      "0.1553\n",
      "0.148\n",
      "0.1053\n",
      "0.1484\n",
      "0.1406\n",
      "0.1603\n",
      "0.1622\n"
     ]
    }
   ],
   "source": [
    "batch_size = 100\n",
    "for epoch in range(20):\n",
    "    order = random.permutation(train_features.shape[0])\n",
    "    for start_index in range(0, train_features.shape[0], batch_size):\n",
    "        optimizer.zero_grad()\n",
    "        \n",
    "        batch_indice = order[start_index:start_index+batch_size]\n",
    "        batch_features = torch.FloatTensor(train_features[batch_indice, :])\n",
    "        batch_labels = torch.LongTensor(train_labels[batch_indice])\n",
    "        \n",
    "        features_var = torch.autograd.Variable(batch_features)\n",
    "        labels_var = torch.autograd.Variable(batch_labels)\n",
    "        \n",
    "        preds_var = mnist_net.forward(features_var)\n",
    "        loss = criterion(preds_var, labels_var)\n",
    "        \n",
    "        loss.backward()\n",
    "        \n",
    "        optimizer.step()\n",
    "        \n",
    "    order = random.permutation(test_features.shape[0])\n",
    "    \n",
    "    all_preds = []\n",
    "    all_trues = []\n",
    "    for start_index in range(0, test_features.shape[0], batch_size):\n",
    "        batch_indice = order[start_index:start_index+batch_size]\n",
    "        batch_features = torch.FloatTensor(test_features[batch_indice, :])\n",
    "        trues = test_labels[batch_indice]\n",
    "        \n",
    "        features_var = torch.autograd.Variable(batch_features)\n",
    "        \n",
    "        preds = mnist_net.forward(features_var).data.numpy().argmax(axis=1)\n",
    "        \n",
    "#         print preds.shape\n",
    "#         print trues.shape\n",
    "        \n",
    "        all_preds.append(preds)\n",
    "        all_trues.append(trues)\n",
    "        \n",
    "    all_preds = numpy.concatenate(all_preds)\n",
    "    all_trues = numpy.concatenate(all_trues)\n",
    "    \n",
    "    print((all_preds == all_trues).sum() / float(all_trues.size))"
   ]
  },
  {
   "cell_type": "code",
   "execution_count": null,
   "metadata": {},
   "outputs": [],
   "source": []
  }
 ],
 "metadata": {
  "anaconda-cloud": {},
  "kernelspec": {
   "display_name": "Python 3",
   "language": "python",
   "name": "python3"
  },
  "language_info": {
   "codemirror_mode": {
    "name": "ipython",
    "version": 3
   },
   "file_extension": ".py",
   "mimetype": "text/x-python",
   "name": "python",
   "nbconvert_exporter": "python",
   "pygments_lexer": "ipython3",
   "version": "3.5.2"
  }
 },
 "nbformat": 4,
 "nbformat_minor": 2
}
