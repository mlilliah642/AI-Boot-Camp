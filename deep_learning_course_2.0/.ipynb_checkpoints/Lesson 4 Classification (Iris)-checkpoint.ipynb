{
 "cells": [
  {
   "cell_type": "markdown",
   "metadata": {},
   "source": [
    "https://ru.wikipedia.org/wiki/%D0%98%D1%80%D0%B8%D1%81%D1%8B_%D0%A4%D0%B8%D1%88%D0%B5%D1%80%D0%B0#/media/File:Iris_dataset_scatterplot.svg"
   ]
  },
  {
   "cell_type": "code",
   "execution_count": 6,
   "metadata": {},
   "outputs": [
    {
     "name": "stdout",
     "output_type": "stream",
     "text": [
      "Collecting sklearn\n",
      "Collecting scikit-learn (from sklearn)\n",
      "  Using cached https://files.pythonhosted.org/packages/bf/53/8c9c950a3cfaec16069df196c0b76ab05b3d1f0527f6bb97a30f4dda5240/scikit_learn-0.19.1-cp35-cp35m-manylinux1_x86_64.whl\n",
      "Installing collected packages: scikit-learn, sklearn\n",
      "Successfully installed scikit-learn-0.19.1 sklearn-0.0\n",
      "\u001b[33mYou are using pip version 8.1.1, however version 10.0.1 is available.\n",
      "You should consider upgrading via the 'pip install --upgrade pip' command.\u001b[0m\n"
     ]
    }
   ],
   "source": [
    "!pip3 install sklearn"
   ]
  },
  {
   "cell_type": "code",
   "execution_count": 7,
   "metadata": {},
   "outputs": [
    {
     "name": "stdout",
     "output_type": "stream",
     "text": [
      "Collecting scipy\n",
      "  Downloading https://files.pythonhosted.org/packages/cd/32/5196b64476bd41d596a8aba43506e2403e019c90e1a3dfc21d51b83db5a6/scipy-1.1.0-cp35-cp35m-manylinux1_x86_64.whl (33.1MB)\n",
      "\u001b[K    100% |████████████████████████████████| 33.1MB 50kB/s eta 0:00:011    57% |██████████████████▌             | 19.1MB 240kB/s eta 0:00:59    74% |████████████████████████        | 24.8MB 70kB/s eta 0:01:58    77% |████████████████████████▊       | 25.6MB 93kB/s eta 0:01:21\n",
      "\u001b[?25hCollecting numpy>=1.8.2 (from scipy)\n",
      "  Using cached https://files.pythonhosted.org/packages/43/17/cd9fa14492dbef2aaf22622db79dba087c10f125473e730cda2f2019c40b/numpy-1.14.5-cp35-cp35m-manylinux1_x86_64.whl\n",
      "Installing collected packages: numpy, scipy\n",
      "Successfully installed numpy-1.14.5 scipy-1.1.0\n",
      "\u001b[33mYou are using pip version 8.1.1, however version 10.0.1 is available.\n",
      "You should consider upgrading via the 'pip install --upgrade pip' command.\u001b[0m\n"
     ]
    }
   ],
   "source": [
    "!pip3 install scipy"
   ]
  },
  {
   "cell_type": "code",
   "execution_count": 37,
   "metadata": {},
   "outputs": [
    {
     "name": "stdout",
     "output_type": "stream",
     "text": [
      "Populating the interactive namespace from numpy and matplotlib\n"
     ]
    },
    {
     "data": {
      "text/plain": [
       "<torch._C.Generator at 0x7f92c98ff0f0>"
      ]
     },
     "execution_count": 37,
     "metadata": {},
     "output_type": "execute_result"
    }
   ],
   "source": [
    "%pylab inline\n",
    "import sklearn.datasets\n",
    "import torch\n",
    "import torch.nn\n",
    "\n",
    "random.seed(0)\n",
    "torch.manual_seed(0)"
   ]
  },
  {
   "cell_type": "code",
   "execution_count": 38,
   "metadata": {},
   "outputs": [],
   "source": [
    "iris = sklearn.datasets.load_iris()"
   ]
  },
  {
   "cell_type": "code",
   "execution_count": 39,
   "metadata": {},
   "outputs": [],
   "source": [
    "features = iris.data[:, :2]\n",
    "labels = iris.target\n",
    "\n",
    "order = random.permutation(150)\n",
    "\n",
    "features = features[order, :]\n",
    "labels = labels[order]\n",
    "\n",
    "targets = numpy.zeros([150, 3])\n",
    "targets[arange(150), labels] = 1.0\n",
    "\n",
    "train_features = features[:100, :]\n",
    "test_features = features[100:, :]\n",
    "train_targets = targets[:100]\n",
    "test_targets = targets[100:]\n",
    "train_labels = labels[:100]\n",
    "test_labels = labels[100:]"
   ]
  },
  {
   "cell_type": "code",
   "execution_count": 40,
   "metadata": {},
   "outputs": [
    {
     "data": {
      "text/plain": [
       "150"
      ]
     },
     "execution_count": 40,
     "metadata": {},
     "output_type": "execute_result"
    }
   ],
   "source": [
    "len(order)"
   ]
  },
  {
   "cell_type": "code",
   "execution_count": 41,
   "metadata": {},
   "outputs": [],
   "source": [
    "class IrisNet(torch.nn.Module):\n",
    "    def __init__(self, n_hidden_neurons):\n",
    "        \n",
    "        super(IrisNet, self).__init__()\n",
    "        self.fc1 = torch.nn.Linear(2, n_hidden_neurons)\n",
    "        self.activ1 = torch.nn.Sigmoid()\n",
    "        self.fc2 = torch.nn.Linear(n_hidden_neurons, 3)\n",
    "        self.sm = torch.nn.Softmax(dim=1)\n",
    "        \n",
    "    def forward(self, x):\n",
    "        x = self.fc1(x)\n",
    "        x = self.activ1(x)\n",
    "        x = self.fc2(x)\n",
    "#         x = self.sm(x) \n",
    "        return x\n",
    "\n",
    "    def inference(self, x):\n",
    "        x = self.forward(x)\n",
    "        x = self.sm(x)\n",
    "        return x"
   ]
  },
  {
   "cell_type": "code",
   "execution_count": 42,
   "metadata": {},
   "outputs": [
    {
     "name": "stdout",
     "output_type": "stream",
     "text": [
      "(100, 3)\n"
     ]
    }
   ],
   "source": [
    "criterion = torch.nn.CrossEntropyLoss()\n",
    "    \n",
    "print(train_targets.shape)\n",
    "\n",
    "iris_net = IrisNet(5)\n",
    "\n",
    "optimizer = torch.optim.Adam(iris_net.parameters(), \n",
    "                             lr=1.0e-3)"
   ]
  },
  {
   "cell_type": "code",
   "execution_count": 43,
   "metadata": {
    "scrolled": true
   },
   "outputs": [
    {
     "name": "stdout",
     "output_type": "stream",
     "text": [
      "0.34\n",
      "0.66\n",
      "0.68\n",
      "0.7\n",
      "0.74\n",
      "0.72\n",
      "0.7\n",
      "0.7\n",
      "0.7\n",
      "0.72\n",
      "0.72\n",
      "0.72\n",
      "0.72\n",
      "0.74\n",
      "0.74\n",
      "0.76\n",
      "0.76\n",
      "0.76\n",
      "0.76\n",
      "0.76\n",
      "0.76\n",
      "0.76\n",
      "0.78\n",
      "0.78\n",
      "0.8\n",
      "0.8\n",
      "0.8\n",
      "0.8\n",
      "0.8\n",
      "0.8\n",
      "0.8\n",
      "0.8\n",
      "0.8\n",
      "0.8\n",
      "0.8\n",
      "0.8\n",
      "0.8\n",
      "0.8\n",
      "0.8\n",
      "0.8\n",
      "0.8\n",
      "0.8\n",
      "0.8\n",
      "0.8\n",
      "0.8\n",
      "0.8\n",
      "0.8\n",
      "0.8\n",
      "0.8\n",
      "0.8\n",
      "0.8\n",
      "0.8\n",
      "0.8\n",
      "0.8\n",
      "0.8\n",
      "0.8\n",
      "0.8\n",
      "0.8\n",
      "0.8\n",
      "0.8\n",
      "0.8\n",
      "0.8\n",
      "0.8\n",
      "0.8\n",
      "0.82\n",
      "0.8\n",
      "0.82\n",
      "0.82\n",
      "0.82\n",
      "0.82\n",
      "0.82\n",
      "0.82\n",
      "0.82\n",
      "0.82\n",
      "0.82\n",
      "0.82\n",
      "0.82\n",
      "0.82\n",
      "0.82\n",
      "0.82\n",
      "0.82\n",
      "0.82\n",
      "0.82\n",
      "0.82\n",
      "0.82\n",
      "0.82\n",
      "0.82\n",
      "0.82\n",
      "0.82\n",
      "0.82\n",
      "0.82\n",
      "0.82\n",
      "0.82\n",
      "0.82\n",
      "0.82\n",
      "0.82\n",
      "0.82\n",
      "0.82\n",
      "0.82\n",
      "0.82\n"
     ]
    }
   ],
   "source": [
    "batch_size = 10\n",
    "\n",
    "softmax = torch.nn.Softmax(dim=1)\n",
    "\n",
    "for epoch in range(10000):\n",
    "    order = random.permutation(train_features.shape[0])\n",
    "    for start_index in range(0, train_features.shape[0], batch_size):\n",
    "        optimizer.zero_grad()\n",
    "        \n",
    "        batch_indice = order[start_index:start_index+batch_size]\n",
    "        \n",
    "        batch_features = torch.FloatTensor(train_features[batch_indice, :])\n",
    "        batch_labels = torch.LongTensor(train_labels[batch_indice])\n",
    "        \n",
    "        features_var = torch.autograd.Variable(batch_features)\n",
    "        targets_var = torch.autograd.Variable(batch_labels)\n",
    "        \n",
    "        preds_var = iris_net.forward(features_var) \n",
    "        \n",
    "        loss = criterion(preds_var, targets_var)\n",
    "        loss.backward()\n",
    "        \n",
    "        optimizer.step()\n",
    "        \n",
    "    test_features = torch.Tensor(test_features)\n",
    "    features_var = torch.autograd.Variable(test_features)\n",
    "    test_preds = iris_net.forward(features_var)\n",
    "    test_preds = softmax(test_preds).data.numpy()\n",
    "        \n",
    "    test_preds = test_preds.argmax(axis=1)\n",
    "    if epoch % 100 == 0:\n",
    "        print((test_preds == test_labels).sum() / float(test_labels.size))"
   ]
  },
  {
   "cell_type": "code",
   "execution_count": 44,
   "metadata": {},
   "outputs": [
    {
     "data": {
      "image/png": "[encoded data removed]",
      "text/plain": [
       "<Figure size 432x288 with 1 Axes>"
      ]
     },
     "metadata": {},
     "output_type": "display_data"
    }
   ],
   "source": [
    "n_classes = 3\n",
    "plot_colors = \"bry\"\n",
    "plot_step = 0.02\n",
    "\n",
    "X = train_features\n",
    "x_var = torch.autograd.Variable(torch.Tensor(X))\n",
    "x_min, x_max = X[:, 0].min() - 1, X[:, 0].max() + 1\n",
    "y_min, y_max = X[:, 1].min() - 1, X[:, 1].max() + 1\n",
    "\n",
    "\n",
    "xx, yy = np.meshgrid(np.arange(x_min, x_max, plot_step),\n",
    "                     np.arange(y_min, y_max, plot_step))\n",
    "\n",
    "\n",
    "Z = iris_net.inference(torch.autograd.Variable(\n",
    "    torch.Tensor(np.c_[xx.ravel(), yy.ravel()]))).data.numpy().argmax(axis=1)\n",
    "Z = Z.reshape(xx.shape)\n",
    "cs = plt.contourf(xx, yy, Z, cmap=plt.cm.Paired)\n",
    "\n",
    "for i, color in zip(range(n_classes), plot_colors):\n",
    "    idx = np.where(train_labels == i)\n",
    "    plt.scatter(X[idx, 0], X[idx, 1], c=color, label=iris.target_names[i],\n",
    "                cmap=plt.cm.Paired)"
   ]
  },
  {
   "cell_type": "markdown",
   "metadata": {},
   "source": [
    "# Задание 1\n",
    "Сделать нейронную сеть с двумя скрытыми слоями (оба сигмоидные). Подобрать количество нейронов в первом и втором слое, которое максимизирует значение accuracy (процент угаданных цветков).\n",
    "\n",
    "Замените функцию активации с сигмоиды на гиперболический тангенс.\n",
    "Что изменилось?"
   ]
  },
  {
   "cell_type": "code",
   "execution_count": null,
   "metadata": {},
   "outputs": [],
   "source": []
  },
  {
   "cell_type": "code",
   "execution_count": 69,
   "metadata": {},
   "outputs": [],
   "source": [
    "class IrisNet(torch.nn.Module):\n",
    "    def __init__(self, n_hidden_neurons, n_hidden_neurons_1):\n",
    "        \n",
    "        super(IrisNet, self).__init__()\n",
    "        self.fc1 = torch.nn.Linear(2, n_hidden_neurons)\n",
    "        self.activ1 = torch.nn.Tanh()\n",
    "        self.fc2 = torch.nn.Linear(n_hidden_neurons, n_hidden_neurons_1)\n",
    "        self.activ2 = torch.nn.Tanh()\n",
    "        self.fc3 = torch.nn.Linear(n_hidden_neurons_1, 3)\n",
    "        self.sm = torch.nn.Softmax(dim=1)\n",
    "        \n",
    "    def forward(self, x):\n",
    "        x = self.fc1(x)\n",
    "        x = self.activ1(x)\n",
    "        x = self.fc2(x)\n",
    "        x = self.activ2(x)\n",
    "        x = self.fc3(x)\n",
    "#         x = self.sm(x) \n",
    "        return x\n",
    "\n",
    "    def inference(self, x):\n",
    "        x = self.forward(x)\n",
    "        x = self.sm(x)\n",
    "        return x"
   ]
  },
  {
   "cell_type": "code",
   "execution_count": 70,
   "metadata": {},
   "outputs": [
    {
     "name": "stdout",
     "output_type": "stream",
     "text": [
      "(100, 3)\n"
     ]
    }
   ],
   "source": [
    "criterion = torch.nn.CrossEntropyLoss()\n",
    "    \n",
    "print(train_targets.shape)\n",
    "\n",
    "iris_net = IrisNet(10,10)\n",
    "\n",
    "optimizer = torch.optim.Adam(iris_net.parameters(), \n",
    "                             lr=1.0e-3)"
   ]
  },
  {
   "cell_type": "code",
   "execution_count": 71,
   "metadata": {
    "scrolled": true
   },
   "outputs": [
    {
     "name": "stdout",
     "output_type": "stream",
     "text": [
      "0.72\n",
      "0.7\n",
      "0.72\n",
      "0.76\n",
      "0.8\n",
      "0.8\n",
      "0.8\n",
      "0.8\n",
      "0.8\n",
      "0.8\n",
      "0.8\n",
      "0.8\n",
      "0.8\n",
      "0.8\n",
      "0.8\n",
      "0.82\n",
      "0.82\n",
      "0.82\n",
      "0.8\n",
      "0.82\n",
      "0.8\n",
      "0.8\n",
      "0.82\n",
      "0.8\n",
      "0.8\n",
      "0.82\n",
      "0.82\n",
      "0.8\n",
      "0.8\n",
      "0.82\n",
      "0.82\n",
      "0.8\n",
      "0.82\n",
      "0.8\n",
      "0.8\n",
      "0.82\n",
      "0.82\n",
      "0.8\n",
      "0.82\n",
      "0.8\n",
      "0.82\n",
      "0.8\n",
      "0.8\n",
      "0.82\n",
      "0.82\n",
      "0.82\n",
      "0.82\n",
      "0.82\n",
      "0.82\n",
      "0.82\n",
      "0.82\n",
      "0.82\n",
      "0.82\n",
      "0.82\n",
      "0.82\n",
      "0.82\n",
      "0.82\n",
      "0.8\n",
      "0.8\n",
      "0.82\n",
      "0.82\n",
      "0.82\n",
      "0.82\n",
      "0.8\n",
      "0.82\n",
      "0.82\n",
      "0.8\n",
      "0.8\n",
      "0.82\n",
      "0.8\n",
      "0.8\n",
      "0.8\n",
      "0.8\n",
      "0.8\n",
      "0.8\n",
      "0.8\n",
      "0.8\n",
      "0.8\n",
      "0.8\n",
      "0.8\n",
      "0.82\n",
      "0.8\n",
      "0.8\n",
      "0.8\n",
      "0.8\n",
      "0.8\n",
      "0.8\n",
      "0.8\n",
      "0.8\n",
      "0.8\n",
      "0.8\n",
      "0.82\n",
      "0.8\n",
      "0.82\n",
      "0.8\n",
      "0.8\n",
      "0.8\n",
      "0.8\n",
      "0.8\n",
      "0.82\n"
     ]
    }
   ],
   "source": [
    "batch_size = 10\n",
    "\n",
    "softmax = torch.nn.Softmax(dim=1)\n",
    "\n",
    "for epoch in range(10000):\n",
    "    order = random.permutation(train_features.shape[0])\n",
    "    for start_index in range(0, train_features.shape[0], batch_size):\n",
    "        optimizer.zero_grad()\n",
    "        \n",
    "        batch_indice = order[start_index:start_index+batch_size]\n",
    "        \n",
    "        batch_features = torch.FloatTensor(train_features[batch_indice, :])\n",
    "        batch_labels = torch.LongTensor(train_labels[batch_indice])\n",
    "        \n",
    "        features_var = torch.autograd.Variable(batch_features)\n",
    "        targets_var = torch.autograd.Variable(batch_labels)\n",
    "        \n",
    "        preds_var = iris_net.forward(features_var) \n",
    "        \n",
    "        loss = criterion(preds_var, targets_var)\n",
    "        loss.backward()\n",
    "        \n",
    "        optimizer.step()\n",
    "        \n",
    "    test_features = torch.Tensor(test_features)\n",
    "    features_var = torch.autograd.Variable(test_features)\n",
    "    test_preds = iris_net.forward(features_var)\n",
    "    test_preds = softmax(test_preds).data.numpy()\n",
    "        \n",
    "    test_preds = test_preds.argmax(axis=1)\n",
    "    if epoch % 100 == 0:\n",
    "        print((test_preds == test_labels).sum() / float(test_labels.size))"
   ]
  },
  {
   "cell_type": "code",
   "execution_count": 33,
   "metadata": {},
   "outputs": [
    {
     "data": {
      "image/png": "[encoded data removed]",
      "text/plain": [
       "<Figure size 432x288 with 1 Axes>"
      ]
     },
     "metadata": {},
     "output_type": "display_data"
    }
   ],
   "source": [
    "n_classes = 3\n",
    "plot_colors = \"bry\"\n",
    "plot_step = 0.02\n",
    "\n",
    "X = train_features\n",
    "x_var = torch.autograd.Variable(torch.Tensor(X))\n",
    "x_min, x_max = X[:, 0].min() - 1, X[:, 0].max() + 1\n",
    "y_min, y_max = X[:, 1].min() - 1, X[:, 1].max() + 1\n",
    "\n",
    "\n",
    "xx, yy = np.meshgrid(np.arange(x_min, x_max, plot_step),\n",
    "                     np.arange(y_min, y_max, plot_step))\n",
    "\n",
    "\n",
    "Z = iris_net.inference(torch.autograd.Variable(\n",
    "    torch.Tensor(np.c_[xx.ravel(), yy.ravel()]))).data.numpy().argmax(axis=1)\n",
    "Z = Z.reshape(xx.shape)\n",
    "cs = plt.contourf(xx, yy, Z, cmap=plt.cm.Paired)\n",
    "\n",
    "for i, color in zip(range(n_classes), plot_colors):\n",
    "    idx = np.where(train_labels == i)\n",
    "    plt.scatter(X[idx, 0], X[idx, 1], c=color, label=iris.target_names[i],\n",
    "                cmap=plt.cm.Paired)"
   ]
  },
  {
   "cell_type": "code",
   "execution_count": null,
   "metadata": {},
   "outputs": [],
   "source": []
  },
  {
   "cell_type": "markdown",
   "metadata": {},
   "source": [
    "# Задание 2\n",
    "Отцентрируйте и отнормируйте данные, добавьте неиспользованные признаки. Стало ли качество лучше? Что больше повлияло на качество, предобработка данных или увеличение числа рассматриваемых признаков?"
   ]
  },
  {
   "cell_type": "code",
   "execution_count": 85,
   "metadata": {},
   "outputs": [],
   "source": [
    "from sklearn.preprocessing import StandardScaler"
   ]
  },
  {
   "cell_type": "code",
   "execution_count": 92,
   "metadata": {},
   "outputs": [],
   "source": [
    "iris = sklearn.datasets.load_iris()"
   ]
  },
  {
   "cell_type": "code",
   "execution_count": 95,
   "metadata": {},
   "outputs": [],
   "source": [
    "features = iris.data[:, :]\n",
    "labels = iris.target\n",
    "\n",
    "\n",
    "order = random.permutation(150)\n",
    "\n",
    "features = features[order, :]\n",
    "labels = labels[order]\n",
    "\n",
    "StandardScaler().fit_transform(features)\n",
    "\n",
    "targets = numpy.zeros([150, 3])\n",
    "targets[arange(150), labels] = 1.0\n",
    "\n",
    "train_features = features[:100, :]\n",
    "test_features = features[100:, :]\n",
    "train_targets = targets[:100]\n",
    "test_targets = targets[100:]\n",
    "train_labels = labels[:100]\n",
    "test_labels = labels[100:]"
   ]
  },
  {
   "cell_type": "code",
   "execution_count": 96,
   "metadata": {},
   "outputs": [],
   "source": [
    "class IrisNet(torch.nn.Module):\n",
    "    def __init__(self, n_hidden_neurons, n_hidden_neurons_1):\n",
    "        \n",
    "        super(IrisNet, self).__init__()\n",
    "        self.fc1 = torch.nn.Linear(4, n_hidden_neurons)\n",
    "        self.activ1 = torch.nn.Tanh()\n",
    "        self.fc2 = torch.nn.Linear(n_hidden_neurons, n_hidden_neurons_1)\n",
    "        self.activ2 = torch.nn.Tanh()\n",
    "        self.fc3 = torch.nn.Linear(n_hidden_neurons_1, 3)\n",
    "        self.sm = torch.nn.Softmax(dim=1)\n",
    "        \n",
    "    def forward(self, x):\n",
    "        x = self.fc1(x)\n",
    "        x = self.activ1(x)\n",
    "        x = self.fc2(x)\n",
    "        x = self.activ2(x)\n",
    "        x = self.fc3(x)\n",
    "#         x = self.sm(x) \n",
    "        return x\n",
    "\n",
    "    def inference(self, x):\n",
    "        x = self.forward(x)\n",
    "        x = self.sm(x)\n",
    "        return x"
   ]
  },
  {
   "cell_type": "code",
   "execution_count": 97,
   "metadata": {},
   "outputs": [
    {
     "name": "stdout",
     "output_type": "stream",
     "text": [
      "(100, 3)\n"
     ]
    }
   ],
   "source": [
    "criterion = torch.nn.CrossEntropyLoss()\n",
    "    \n",
    "print(train_targets.shape)\n",
    "\n",
    "iris_net = IrisNet(10,10)\n",
    "\n",
    "optimizer = torch.optim.Adam(iris_net.parameters(), \n",
    "                             lr=1.0e-3)"
   ]
  },
  {
   "cell_type": "code",
   "execution_count": 98,
   "metadata": {
    "scrolled": true
   },
   "outputs": [
    {
     "name": "stdout",
     "output_type": "stream",
     "text": [
      "0.32\n",
      "1.0\n",
      "1.0\n",
      "1.0\n",
      "0.98\n",
      "0.98\n",
      "0.96\n",
      "1.0\n",
      "1.0\n",
      "1.0\n",
      "0.98\n",
      "0.98\n",
      "0.98\n",
      "1.0\n",
      "0.98\n",
      "1.0\n",
      "1.0\n",
      "0.96\n",
      "0.98\n",
      "1.0\n",
      "0.98\n",
      "1.0\n",
      "1.0\n",
      "1.0\n",
      "1.0\n",
      "1.0\n",
      "1.0\n",
      "1.0\n",
      "0.98\n",
      "0.98\n",
      "1.0\n",
      "1.0\n",
      "0.98\n",
      "0.96\n",
      "1.0\n",
      "0.98\n",
      "0.96\n",
      "1.0\n",
      "1.0\n",
      "0.98\n",
      "1.0\n",
      "0.98\n",
      "1.0\n",
      "0.98\n",
      "0.98\n",
      "0.98\n",
      "1.0\n",
      "1.0\n",
      "0.98\n",
      "0.98\n",
      "0.98\n",
      "1.0\n",
      "0.98\n",
      "1.0\n",
      "0.98\n",
      "0.98\n",
      "0.98\n",
      "0.98\n",
      "0.98\n",
      "0.98\n",
      "0.98\n",
      "0.98\n",
      "0.98\n",
      "0.98\n",
      "0.98\n",
      "0.98\n",
      "0.98\n",
      "0.98\n",
      "0.98\n",
      "0.98\n",
      "0.96\n",
      "0.98\n",
      "0.98\n",
      "0.98\n",
      "0.98\n",
      "0.98\n",
      "0.98\n",
      "0.98\n",
      "0.98\n",
      "0.98\n",
      "0.98\n",
      "0.98\n",
      "0.96\n",
      "0.98\n",
      "0.96\n",
      "0.98\n",
      "0.98\n",
      "0.98\n",
      "0.96\n",
      "0.96\n",
      "0.98\n",
      "0.98\n",
      "0.98\n",
      "0.96\n",
      "0.96\n",
      "0.98\n",
      "0.96\n",
      "0.98\n",
      "0.96\n",
      "0.98\n"
     ]
    }
   ],
   "source": [
    "batch_size = 10\n",
    "\n",
    "softmax = torch.nn.Softmax(dim=1)\n",
    "\n",
    "for epoch in range(10000):\n",
    "    order = random.permutation(train_features.shape[0])\n",
    "    for start_index in range(0, train_features.shape[0], batch_size):\n",
    "        optimizer.zero_grad()\n",
    "        \n",
    "        batch_indice = order[start_index:start_index+batch_size]\n",
    "        \n",
    "        batch_features = torch.FloatTensor(train_features[batch_indice, :])\n",
    "        batch_labels = torch.LongTensor(train_labels[batch_indice])\n",
    "        \n",
    "        features_var = torch.autograd.Variable(batch_features)\n",
    "        targets_var = torch.autograd.Variable(batch_labels)\n",
    "        \n",
    "        preds_var = iris_net.forward(features_var) \n",
    "        \n",
    "        loss = criterion(preds_var, targets_var)\n",
    "        loss.backward()\n",
    "        \n",
    "        optimizer.step()\n",
    "        \n",
    "    test_features = torch.Tensor(test_features)\n",
    "    features_var = torch.autograd.Variable(test_features)\n",
    "    test_preds = iris_net.forward(features_var)\n",
    "    test_preds = softmax(test_preds).data.numpy()\n",
    "        \n",
    "    test_preds = test_preds.argmax(axis=1)\n",
    "    if epoch % 100 == 0:\n",
    "        print((test_preds == test_labels).sum() / float(test_labels.size))"
   ]
  },
  {
   "cell_type": "code",
   "execution_count": null,
   "metadata": {},
   "outputs": [],
   "source": []
  }
 ],
 "metadata": {
  "anaconda-cloud": {},
  "kernelspec": {
   "display_name": "Python 3",
   "language": "python",
   "name": "python3"
  },
  "language_info": {
   "codemirror_mode": {
    "name": "ipython",
    "version": 3
   },
   "file_extension": ".py",
   "mimetype": "text/x-python",
   "name": "python",
   "nbconvert_exporter": "python",
   "pygments_lexer": "ipython3",
   "version": "3.5.2"
  }
 },
 "nbformat": 4,
 "nbformat_minor": 2
}
